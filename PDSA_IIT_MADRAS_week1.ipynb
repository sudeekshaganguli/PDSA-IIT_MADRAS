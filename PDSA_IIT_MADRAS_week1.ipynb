{
  "nbformat": 4,
  "nbformat_minor": 0,
  "metadata": {
    "colab": {
      "name": "PDSA-IIT MADRAS_week1.ipynb",
      "provenance": [],
      "toc_visible": true,
      "authorship_tag": "ABX9TyOCaQzOd1bn93uDJnJnPgpI",
      "include_colab_link": true
    },
    "kernelspec": {
      "name": "python3",
      "display_name": "Python 3"
    },
    "language_info": {
      "name": "python"
    }
  },
  "cells": [
    {
      "cell_type": "markdown",
      "metadata": {
        "id": "view-in-github",
        "colab_type": "text"
      },
      "source": [
        "<a href=\"https://colab.research.google.com/github/sudeekshaganguli/PDSA-IIT_MADRAS/blob/week1/PDSA_IIT_MADRAS_week1.ipynb\" target=\"_parent\"><img src=\"https://colab.research.google.com/assets/colab-badge.svg\" alt=\"Open In Colab\"/></a>"
      ]
    },
    {
      "cell_type": "markdown",
      "source": [
        "WEEK 1"
      ],
      "metadata": {
        "id": "bk3z8MDtS7Al"
      }
    },
    {
      "cell_type": "markdown",
      "source": [
        "PPA-1\n",
        "Twin primes are pairs of prime numbers that differ by 2. For example (3, 5), (5, 7), and (11,13) are twin primes.\n",
        "Write a function Twin_Primes(n, m) where n and m are positive integers and n < m , that returns all unique twin primes between m and n (both inclusive). The function returns a list of tuples and each tuple (a,b) represents one unique twin prime where n <= a < b <= m."
      ],
      "metadata": {
        "id": "Sgy8vMcISqn6"
      }
    },
    {
      "cell_type": "code",
      "source": [
        "import math\n",
        "def is_prime(a):\n",
        "  (result,i)=(True,2)\n",
        "  while(result and i<=math.sqrt(a)):\n",
        "    if(a%i==0):\n",
        "      return False\n",
        "    else:\n",
        "      i+=1\n",
        "  return result \n",
        "      \n",
        "\n",
        "\n",
        "\n",
        "def Twin_Primes(n,m):\n",
        "  lastprime=n\n",
        "  pd=[]\n",
        "  for i in range(1,m+1):\n",
        "    if i==1:\n",
        "      continue\n",
        "    else:\n",
        "      if (is_prime(i) and is_prime(i+2)):\n",
        "        pd.append((i,i+2))\n",
        "  return pd\n",
        "\n",
        "n=int(input())\n",
        "m=int(input())\n",
        "print(sorted(Twin_Primes(n, m)))"
      ],
      "metadata": {
        "colab": {
          "base_uri": "https://localhost:8080/"
        },
        "id": "AsCc3aM8TA3t",
        "outputId": "84959368-5136-48d3-c2bf-33e645e7ac8e"
      },
      "execution_count": null,
      "outputs": [
        {
          "output_type": "stream",
          "name": "stdout",
          "text": [
            "2\n",
            "100\n",
            "[(3, 5), (5, 7), (11, 13), (17, 19), (29, 31), (41, 43), (59, 61), (71, 73)]\n"
          ]
        }
      ]
    },
    {
      "cell_type": "markdown",
      "source": [
        "PPA-2\n",
        "\n",
        "\n"
      ],
      "metadata": {
        "id": "8xhJlz18Y9VJ"
      }
    },
    {
      "cell_type": "code",
      "source": [
        "class Triangle:\n",
        "    def __init__(self,a,b,c):\n",
        "        self.a = a\n",
        "        self.b = b\n",
        "        self.c = c\n",
        "        self.invalid = False\n",
        "    def Is_valid(self):\n",
        "        if (self.a+self.b > self.c and self.a+self.c > self.b and self.b+self.c > self.a):\n",
        "            return(\"Valid\")\n",
        "        self.invalid = True\n",
        "        return(\"Invalid\")\n",
        "    def Side_Classification(self):\n",
        "        if self.invalid:\n",
        "            return(\"Invalid\")\n",
        "        elif (self.a==self.b and self.b==self.c):\n",
        "            return(\"Equilateral\")\n",
        "        elif (self.a == self.b or self.b == self.c or self.a == self.c):\n",
        "            return(\"Isosceles\")\n",
        "        elif (self.a != self.b != self.c):\n",
        "            return(\"Scalene\")\n",
        "        \n",
        "    def Angle_Classification(self):\n",
        "        self.l = sorted([self.a,self.b,self.c])\n",
        "        if self.invalid:\n",
        "            return(\"Invalid\")\n",
        "        if self.l[0]**2 + self.l[1]**2 > self.l[2]**2:\n",
        "            return(\"Acute\")\n",
        "        elif self.l[0]**2 + self.l[1]**2 == self.l[2]**2:\n",
        "            return(\"Right\")\n",
        "        elif self.l[0]**2 + self.l[1]**2 < self.l[2]**2:\n",
        "            return(\"Obtuse\")\n",
        "    \n",
        "    def Area(self):\n",
        "        if self.invalid:\n",
        "            return(\"Invalid\")\n",
        "        self.s = (self.a+self.b+self.c)/2\n",
        "        self.area = (self.s*(self.s-self.a)*(self.s-self.b)*(self.s-self.c))**0.5\n",
        "        return self.area\n",
        "\n",
        "    \n",
        "a=int(input())\n",
        "b=int(input())\n",
        "c=int(input())\n",
        "T=Triangle(a,b,c)\n",
        "print(T.Is_valid())\n",
        "print(T.Side_Classification())\n",
        "print(T.Angle_Classification())\n",
        "print(T.Area())"
      ],
      "metadata": {
        "colab": {
          "base_uri": "https://localhost:8080/"
        },
        "id": "5Xc8ZN7-apAH",
        "outputId": "ece4a48d-9811-490d-cf7e-1cff043e180d"
      },
      "execution_count": 4,
      "outputs": [
        {
          "output_type": "stream",
          "name": "stdout",
          "text": [
            "3\n",
            "4\n",
            "5\n",
            "Valid\n",
            "Scalene\n",
            "Right\n",
            "6.0\n"
          ]
        }
      ]
    },
    {
      "cell_type": "markdown",
      "source": [
        "GRPA-1"
      ],
      "metadata": {
        "id": "ijD34K_lb42x"
      }
    },
    {
      "cell_type": "code",
      "source": [
        "def find_Min_Difference(L, P):\n",
        "    L.sort()\n",
        "    curMin = L[P-1] - L[0] \n",
        "    for i in range(1, len(L) - P + 1):\n",
        "        curMin = min(curMin, L[i+P-1] - L[i])\n",
        "    return curMin\n",
        "L=eval(input().strip())\n",
        "P=int(input())\n",
        "print(find_Min_Difference(L,P))"
      ],
      "metadata": {
        "colab": {
          "base_uri": "https://localhost:8080/"
        },
        "id": "Vt60iAZqauG7",
        "outputId": "eb616264-036d-482d-b816-f211cb915b13"
      },
      "execution_count": 5,
      "outputs": [
        {
          "output_type": "stream",
          "name": "stdout",
          "text": [
            "[3,4,1,9,56,7,9,12]\n",
            "5\n",
            "6\n"
          ]
        }
      ]
    },
    {
      "cell_type": "code",
      "source": [
        ""
      ],
      "metadata": {
        "id": "mj2oEsagdfhW"
      },
      "execution_count": null,
      "outputs": []
    }
  ]
}