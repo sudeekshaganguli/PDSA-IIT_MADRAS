{
  "nbformat": 4,
  "nbformat_minor": 0,
  "metadata": {
    "colab": {
      "name": "PDSA-IIT MADRAS.ipynb",
      "provenance": [],
      "toc_visible": true,
      "authorship_tag": "ABX9TyMSenfx7SV95kdcvL05G+Gp",
      "include_colab_link": true
    },
    "kernelspec": {
      "name": "python3",
      "display_name": "Python 3"
    },
    "language_info": {
      "name": "python"
    }
  },
  "cells": [
    {
      "cell_type": "markdown",
      "metadata": {
        "id": "view-in-github",
        "colab_type": "text"
      },
      "source": [
        "<a href=\"https://colab.research.google.com/github/sudeekshaganguli/PDSA-IIT_MADRAS/blob/week1/PDSA_IIT_MADRAS.ipynb\" target=\"_parent\"><img src=\"https://colab.research.google.com/assets/colab-badge.svg\" alt=\"Open In Colab\"/></a>"
      ]
    },
    {
      "cell_type": "markdown",
      "source": [
        "WEEK 1"
      ],
      "metadata": {
        "id": "bk3z8MDtS7Al"
      }
    },
    {
      "cell_type": "markdown",
      "source": [
        "PPA-1\n",
        "Twin primes are pairs of prime numbers that differ by 2. For example (3, 5), (5, 7), and (11,13) are twin primes.\n",
        "Write a function Twin_Primes(n, m) where n and m are positive integers and n < m , that returns all unique twin primes between m and n (both inclusive). The function returns a list of tuples and each tuple (a,b) represents one unique twin prime where n <= a < b <= m."
      ],
      "metadata": {
        "id": "Sgy8vMcISqn6"
      }
    },
    {
      "cell_type": "code",
      "source": [
        "import math\n",
        "def is_prime(a):\n",
        "  (result,i)=(True,2)\n",
        "  while(result and i<=math.sqrt(a)):\n",
        "    if(a%i==0):\n",
        "      return False\n",
        "    else:\n",
        "      i+=1\n",
        "  return result \n",
        "      \n",
        "\n",
        "\n",
        "\n",
        "def Twin_Primes(n,m):\n",
        "  lastprime=n\n",
        "  pd=[]\n",
        "  for i in range(1,m+1):\n",
        "    if i==1:\n",
        "      continue\n",
        "    else:\n",
        "      if (is_prime(i) and is_prime(i+2)):\n",
        "        pd.append((i,i+2))\n",
        "  return pd\n",
        "\n",
        "n=int(input())\n",
        "m=int(input())\n",
        "print(sorted(Twin_Primes(n, m)))"
      ],
      "metadata": {
        "colab": {
          "base_uri": "https://localhost:8080/"
        },
        "id": "AsCc3aM8TA3t",
        "outputId": "84959368-5136-48d3-c2bf-33e645e7ac8e"
      },
      "execution_count": null,
      "outputs": [
        {
          "output_type": "stream",
          "name": "stdout",
          "text": [
            "2\n",
            "100\n",
            "[(3, 5), (5, 7), (11, 13), (17, 19), (29, 31), (41, 43), (59, 61), (71, 73)]\n"
          ]
        }
      ]
    }
  ]
}